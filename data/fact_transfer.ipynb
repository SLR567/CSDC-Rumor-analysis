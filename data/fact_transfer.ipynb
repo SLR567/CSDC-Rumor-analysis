{
 "cells": [
  {
   "cell_type": "code",
   "execution_count": 1,
   "id": "a20b807c",
   "metadata": {},
   "outputs": [],
   "source": [
    "import json\n",
    "import re"
   ]
  },
  {
   "cell_type": "code",
   "execution_count": 2,
   "id": "d9e9dc36",
   "metadata": {},
   "outputs": [],
   "source": [
    "file1_data = []"
   ]
  },
  {
   "cell_type": "code",
   "execution_count": 3,
   "id": "73ea0b91",
   "metadata": {},
   "outputs": [],
   "source": [
    "with open('fact.json', 'r', encoding='utf-8') as f:\n",
    "    for line in f:\n",
    "        json_obj = json.loads(line)\n",
    "        file1_data.append(json_obj)\n"
   ]
  },
  {
   "cell_type": "code",
   "execution_count": 4,
   "id": "7850b8ff",
   "metadata": {},
   "outputs": [],
   "source": [
    "# 构建file2.json文件内容\n",
    "file2_data = []\n",
    "\n",
    "for idx, data in enumerate(file1_data):\n",
    "    # 判断是否为\"尚无定论\"\n",
    "    if data[\"explain\"] == \"尚无定论\":\n",
    "        answer = \"unknown\"\n",
    "    elif data[\"explain\"] == \"伪科学\":\n",
    "        answer = \"yes\"\n",
    "    else:\n",
    "        answer = \"no\" # 根据实际情况设置answer的值\n",
    "\n",
    "    file2_entry = {\n",
    "        \"_id\": idx,\n",
    "        \"context\": [\n",
    "            [\n",
    "                data[\"title\"],\n",
    "                [data[\"rumor\"]]\n",
    "            ]\n",
    "        ],\n",
    "        \"question\": \"这句话是否是谣言？\",\n",
    "        \"answer\": answer,\n",
    "        \"supporting_facts\": [\n",
    "            [\n",
    "                data[\"abstract\"],\n",
    "                0\n",
    "            ]\n",
    "        ]\n",
    "    }\n",
    "    #print(file2_entry)\n",
    "    file2_data.append(file2_entry)"
   ]
  },
  {
   "cell_type": "code",
   "execution_count": 5,
   "id": "efe854ea",
   "metadata": {},
   "outputs": [],
   "source": [
    "#with open('fact_transfered.json', 'w') as f:\n",
    "    #json.dump(file2_data, f)"
   ]
  },
  {
   "cell_type": "code",
   "execution_count": 6,
   "id": "e684d392",
   "metadata": {},
   "outputs": [],
   "source": [
    "with open('fact_transfered.json', 'w', encoding='utf-8') as f:\n",
    "    json.dump(file2_data, f, ensure_ascii=False, indent=4)"
   ]
  }
 ],
 "metadata": {
  "kernelspec": {
   "display_name": "Python 3 (ipykernel)",
   "language": "python",
   "name": "python3"
  },
  "language_info": {
   "codemirror_mode": {
    "name": "ipython",
    "version": 3
   },
   "file_extension": ".py",
   "mimetype": "text/x-python",
   "name": "python",
   "nbconvert_exporter": "python",
   "pygments_lexer": "ipython3",
   "version": "3.9.13"
  }
 },
 "nbformat": 4,
 "nbformat_minor": 5
}
