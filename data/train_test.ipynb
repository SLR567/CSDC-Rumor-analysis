{
 "cells": [
  {
   "cell_type": "code",
   "execution_count": 1,
   "id": "7b15ad3c",
   "metadata": {},
   "outputs": [],
   "source": [
    "import json\n",
    "import random"
   ]
  },
  {
   "cell_type": "code",
   "execution_count": 2,
   "id": "e1eea199",
   "metadata": {},
   "outputs": [],
   "source": [
    "# 读取原始数据\n",
    "with open('fact_transfered.json', 'r', encoding='utf-8') as file:\n",
    "    data = json.load(file)\n",
    "\n",
    "# 设置测试集的比例（例如，20%）\n",
    "test_ratio = 0.1\n",
    "\n",
    "# 计算测试集的大小\n",
    "test_size = int(len(data) * test_ratio)\n",
    "\n",
    "# 随机选择测试集的数据\n",
    "test_data = random.sample(data, test_size)\n",
    "\n",
    "# 从原始数据中移除测试集的数据\n",
    "train_data = [item for item in data if item not in test_data]\n",
    "\n",
    "    \n",
    "    \n",
    "with open('dev_fact.json', 'w', encoding='utf-8') as f:\n",
    "    json.dump(test_data, f, ensure_ascii=False, indent=4)\n",
    "    \n",
    "with open('train_fact.json', 'w', encoding='utf-8') as f:\n",
    "    json.dump(train_data, f, ensure_ascii=False, indent=4)"
   ]
  }
 ],
 "metadata": {
  "kernelspec": {
   "display_name": "Python 3 (ipykernel)",
   "language": "python",
   "name": "python3"
  },
  "language_info": {
   "codemirror_mode": {
    "name": "ipython",
    "version": 3
   },
   "file_extension": ".py",
   "mimetype": "text/x-python",
   "name": "python",
   "nbconvert_exporter": "python",
   "pygments_lexer": "ipython3",
   "version": "3.9.13"
  }
 },
 "nbformat": 4,
 "nbformat_minor": 5
}
