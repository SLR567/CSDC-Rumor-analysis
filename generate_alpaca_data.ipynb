{
 "cells": [
  {
   "cell_type": "code",
   "execution_count": 1,
   "id": "3217a8b3-75e7-4a2a-8a85-6e45185d7f36",
   "metadata": {},
   "outputs": [],
   "source": [
    "import json\n",
    "import re"
   ]
  },
  {
   "cell_type": "code",
   "execution_count": 2,
   "id": "52fd7dae-609e-4dd7-9d2d-2beabce82655",
   "metadata": {},
   "outputs": [],
   "source": [
    "file1_data = []"
   ]
  },
  {
   "cell_type": "code",
   "execution_count": 3,
   "id": "8922fd18-c2f4-4b14-87d7-46186721d448",
   "metadata": {},
   "outputs": [],
   "source": [
    "with open('fact.json', 'r', encoding='utf-8') as f:\n",
    "    for line in f:\n",
    "        json_obj = json.loads(line)\n",
    "        file1_data.append(json_obj)"
   ]
  },
  {
   "cell_type": "code",
   "execution_count": 4,
   "id": "bab3581b-f965-45f9-a153-8c29c48b6c2b",
   "metadata": {},
   "outputs": [],
   "source": [
    "file2_data = []"
   ]
  },
  {
   "cell_type": "code",
   "execution_count": 5,
   "id": "d4c096f7-224d-4790-b978-1ff051982af5",
   "metadata": {},
   "outputs": [],
   "source": [
    "for idx, data in enumerate(file1_data):\n",
    "    # 判断是否为\"尚无定论\"\n",
    "    \n",
    "    input=data[\"rumor\"]\n",
    "    doc = {\n",
    "        \"instruction\":\"这句话说得对吗？\",\n",
    "        \"input\":input,\n",
    "        \"output\":data[\"explain\"]+\"。\"+data[\"abstract\"]\n",
    "    }\n",
    "    #print(file2_entry)\n",
    "    file2_data.append(file2_entry)\n"
   ]
  },
  {
   "cell_type": "code",
   "execution_count": 6,
   "id": "87dcf100-f5f6-4b19-b571-ee43d593bea5",
   "metadata": {},
   "outputs": [],
   "source": [
    "with open('alpaca_data.json', 'w', encoding='utf-8') as f:\n",
    "    json.dump(file2_data, f, ensure_ascii=False, indent=4)"
   ]
  },
  {
   "cell_type": "code",
   "execution_count": null,
   "id": "e2d7ad5b-443d-498a-8e4d-f6e8c2b37b71",
   "metadata": {},
   "outputs": [],
   "source": []
  },
  {
   "cell_type": "code",
   "execution_count": null,
   "id": "6a82103f-67e1-4ddf-8b06-b959673b2d71",
   "metadata": {},
   "outputs": [],
   "source": []
  },
  {
   "cell_type": "code",
   "execution_count": null,
   "id": "3cb619b5-7893-4032-991a-d78a4fee7e48",
   "metadata": {},
   "outputs": [],
   "source": []
  },
  {
   "cell_type": "code",
   "execution_count": null,
   "id": "2b5a46aa-38dc-4fce-9bc4-46bd89f3d635",
   "metadata": {},
   "outputs": [],
   "source": []
  }
 ],
 "metadata": {
  "kernelspec": {
   "display_name": "Python 3 (ipykernel)",
   "language": "python",
   "name": "python3"
  },
  "language_info": {
   "codemirror_mode": {
    "name": "ipython",
    "version": 3
   },
   "file_extension": ".py",
   "mimetype": "text/x-python",
   "name": "python",
   "nbconvert_exporter": "python",
   "pygments_lexer": "ipython3",
   "version": "3.11.5"
  }
 },
 "nbformat": 4,
 "nbformat_minor": 5
}
